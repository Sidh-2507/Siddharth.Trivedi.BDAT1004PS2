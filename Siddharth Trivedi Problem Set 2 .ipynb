{
 "cells": [
  {
   "cell_type": "markdown",
   "id": "0cc48ed4",
   "metadata": {},
   "source": [
    "# Question 1"
   ]
  },
  {
   "cell_type": "code",
   "execution_count": 20,
   "id": "93e0029e",
   "metadata": {},
   "outputs": [
    {
     "name": "stdout",
     "output_type": "stream",
     "text": [
      "When the first time we called function b() it initalize the variable 'a' and variable a is defined global.\n",
      "\n",
      "Then it starts evaluating the variable 'a' operation and it calls the function c(a) when c funtion is called it adds2 in the 'a' and returns the value to the function b(), so now the value of 'a' is 2.\n",
      "\n",
      "when we call this function b() for second time Then it starts evaluating the variable 'a' operationand it calls the function c(a) when c funtion is called it adds2 in the 'a' and returns the value to the function b(), so now the value of 'a' is 4.\n",
      "\n",
      "when we call this function b() for the third time Then it starts evaluating the variable 'a' operationand it calls the function c(a) when c funtion is called it adds2 in the 'a' and returns the value to the function b(), so now the value of 'a' is 6.\n",
      "\n",
      " The value of a is printed below.\n",
      "\n",
      " a = 6\n"
     ]
    }
   ],
   "source": [
    "a = 0\n",
    "\n",
    "def b():\n",
    "    global a\n",
    "    a = c(a)\n",
    "    \n",
    "def c(a):\n",
    "     return a + 2\n",
    "\n",
    "    \n",
    "\n",
    "b()\n",
    "b()\n",
    "b()\n",
    "\n",
    "\n",
    "print(\"When the first time we called function b() it initalize the variable 'a' and variable a is defined global.\\n\\n\" \n",
    "      \"Then it starts evaluating the variable 'a' operation and it calls the function c(a) when c funtion is called it adds\"\n",
    "     \"2 in the 'a' and returns the value to the function b(), so now the value of 'a' is 2.\\n\\n\"\n",
    "     \"when we call this function b() for second time Then it starts evaluating the variable 'a' operation\" \n",
    "      \"and it calls the function c(a) when c funtion is called it adds\"\n",
    "     \"2 in the 'a' and returns the value to the function b(), so now the value of 'a' is 4.\\n\\n\"\n",
    "     \"when we call this function b() for the third time Then it starts evaluating the variable 'a' operation\" \n",
    "      \"and it calls the function c(a) when c funtion is called it adds\"\n",
    "     \"2 in the 'a' and returns the value to the function b(), so now the value of 'a' is 6.\\n\\n The value of a is printed below.\")\n",
    "\n",
    "print(\"\\n a =\",a)"
   ]
  },
  {
   "cell_type": "markdown",
   "id": "af81bbdc",
   "metadata": {},
   "source": [
    "# Question 2"
   ]
  },
  {
   "cell_type": "code",
   "execution_count": 27,
   "id": "14e731c8",
   "metadata": {},
   "outputs": [
    {
     "name": "stdout",
     "output_type": "stream",
     "text": [
      "123\n",
      "file notC:/Users/sidhe/OneDrive/Desktop/filelenth.txt is not found.\n"
     ]
    }
   ],
   "source": [
    "def file_length(file_name):\n",
    "    try:\n",
    "        file = open(file_name)\n",
    "        contents = file.read()\n",
    "        file.close()\n",
    "        print(len(contents))\n",
    "    except FileNotFoundError:\n",
    "        print(f\"file not{file_name} is not found.\")\n",
    "    \n",
    "        \n",
    "\n",
    "file_length('C:/Users/sidhe/OneDrive/Desktop/filelength.txt')\n",
    "file_length('C:/Users/sidhe/OneDrive/Desktop/filelenth.txt')"
   ]
  },
  {
   "cell_type": "markdown",
   "id": "8132368d",
   "metadata": {},
   "source": [
    "# Question 3"
   ]
  },
  {
   "cell_type": "code",
   "execution_count": 29,
   "id": "fb496a65",
   "metadata": {},
   "outputs": [
    {
     "name": "stdout",
     "output_type": "stream",
     "text": [
      "['doll', 'firetruck', 'kitten']\n",
      "I am a Kangaroo located at coordinates (0,0)\n",
      "['doll', 'firetruck', 'kitten']\n",
      "I am a Kangaroo located at coordinates (3,0)\n"
     ]
    }
   ],
   "source": [
    "class Marsupial:\n",
    "    def __init__(self):\n",
    "        self.pouch = []\n",
    "    \n",
    "    def put_in_pouch(self, item):\n",
    "        self.pouch.append(item)\n",
    "        \n",
    "    def pouch_contents(self):\n",
    "        return self.pouch\n",
    "    \n",
    "class Kangaroo(Marsupial):\n",
    "    def __init__(self, x=0, y=0):\n",
    "        super().__init__()\n",
    "        self.x = x\n",
    "        self.y = y\n",
    "\n",
    "    def jump(self, dx, dy):\n",
    "        self.x += dx\n",
    "        self.y += dy\n",
    "\n",
    "    def __str__(self):\n",
    "        return f\"I am a Kangaroo located at coordinates ({self.x},{self.y})\"\n",
    "\n",
    "    \n",
    "m = Marsupial()\n",
    "m.put_in_pouch('doll')\n",
    "m.put_in_pouch('firetruck')\n",
    "m.put_in_pouch('kitten')\n",
    "m.pouch_contents()\n",
    "print(m.pouch_contents())\n",
    "k = Kangaroo(0,0)\n",
    "print(k)\n",
    "k.put_in_pouch('doll')\n",
    "k.put_in_pouch('firetruck')\n",
    "k.put_in_pouch('kitten')\n",
    "print(k.pouch_contents())\n",
    "k.jump(1,0)\n",
    "k.jump(1,0)\n",
    "k.jump(1,0)\n",
    "print(k)\n"
   ]
  },
  {
   "cell_type": "markdown",
   "id": "e6066155",
   "metadata": {},
   "source": [
    "# Question 4"
   ]
  },
  {
   "cell_type": "code",
   "execution_count": 17,
   "id": "802fed6d",
   "metadata": {},
   "outputs": [
    {
     "name": "stdout",
     "output_type": "stream",
     "text": [
      ">>>collatz(1)\n",
      "1\n",
      ">>>collatz(10)\n",
      "10\n",
      "5\n",
      "16\n",
      "8\n",
      "4\n",
      "2\n",
      "1\n"
     ]
    }
   ],
   "source": [
    "def collatz(x):\n",
    "    print(x)\n",
    "    if x == 1:\n",
    "        return\n",
    "    elif x % 2 == 0:\n",
    "        collatz(x // 2)\n",
    "    else:\n",
    "        collatz(3 * x + 1)\n",
    "print('>>>collatz(1)')        \n",
    "collatz(1)\n",
    "print('>>>collatz(10)')\n",
    "collatz(10)"
   ]
  },
  {
   "cell_type": "markdown",
   "id": "d00b0959",
   "metadata": {},
   "source": [
    "# Question 5"
   ]
  },
  {
   "cell_type": "code",
   "execution_count": 18,
   "id": "b09100ab",
   "metadata": {},
   "outputs": [
    {
     "name": "stdout",
     "output_type": "stream",
     "text": [
      ">>>binary(0)\n",
      "0\n",
      "\n",
      ">>>binary(1)\n",
      "1\n",
      "\n",
      ">>>binary(3)\n",
      "11\n",
      "\n",
      ">>>binary(9)\n",
      "1001"
     ]
    }
   ],
   "source": [
    "def binary(n):\n",
    "    if n < 2:\n",
    "        print(n, end='')\n",
    "        \n",
    "    else:\n",
    "        binary(n // 2)\n",
    "        print(n % 2, end='')\n",
    "    \n",
    "\n",
    "\n",
    "print('>>>binary(0)')\n",
    "binary(0)\n",
    "print('\\n')\n",
    "print('>>>binary(1)')\n",
    "binary(1)\n",
    "print('\\n')\n",
    "print('>>>binary(3)')\n",
    "binary(3)\n",
    "print('\\n')\n",
    "print('>>>binary(9)')\n",
    "binary(9)\n"
   ]
  },
  {
   "cell_type": "markdown",
   "id": "72b40a31",
   "metadata": {},
   "source": [
    "# Question 6"
   ]
  },
  {
   "cell_type": "code",
   "execution_count": 103,
   "id": "92fc1d49",
   "metadata": {},
   "outputs": [
    {
     "ename": "AttributeError",
     "evalue": "'HeadingParser' object has no attribute 'indentation'",
     "output_type": "error",
     "traceback": [
      "\u001b[1;31m---------------------------------------------------------------------------\u001b[0m",
      "\u001b[1;31mAttributeError\u001b[0m                            Traceback (most recent call last)",
      "\u001b[1;32m~\\AppData\\Local\\Temp\\ipykernel_15680\\1113613426.py\u001b[0m in \u001b[0;36m<module>\u001b[1;34m\u001b[0m\n\u001b[0;32m     30\u001b[0m \u001b[0minfile\u001b[0m\u001b[1;33m.\u001b[0m\u001b[0mclose\u001b[0m\u001b[1;33m(\u001b[0m\u001b[1;33m)\u001b[0m\u001b[1;33m\u001b[0m\u001b[1;33m\u001b[0m\u001b[0m\n\u001b[0;32m     31\u001b[0m \u001b[0mhp\u001b[0m \u001b[1;33m=\u001b[0m \u001b[0mHeadingParser\u001b[0m\u001b[1;33m(\u001b[0m\u001b[1;33m)\u001b[0m\u001b[1;33m\u001b[0m\u001b[1;33m\u001b[0m\u001b[0m\n\u001b[1;32m---> 32\u001b[1;33m \u001b[0mhp\u001b[0m\u001b[1;33m.\u001b[0m\u001b[0mfeed\u001b[0m\u001b[1;33m(\u001b[0m\u001b[0mcontent\u001b[0m\u001b[1;33m)\u001b[0m\u001b[1;33m\u001b[0m\u001b[1;33m\u001b[0m\u001b[0m\n\u001b[0m\u001b[0;32m     33\u001b[0m \u001b[0mhp\u001b[0m\u001b[1;33m.\u001b[0m\u001b[0mprint_headings\u001b[0m\u001b[1;33m(\u001b[0m\u001b[1;33m)\u001b[0m\u001b[1;33m\u001b[0m\u001b[1;33m\u001b[0m\u001b[0m\n",
      "\u001b[1;32m~\\anaconda3\\lib\\html\\parser.py\u001b[0m in \u001b[0;36mfeed\u001b[1;34m(self, data)\u001b[0m\n\u001b[0;32m    108\u001b[0m         \"\"\"\n\u001b[0;32m    109\u001b[0m         \u001b[0mself\u001b[0m\u001b[1;33m.\u001b[0m\u001b[0mrawdata\u001b[0m \u001b[1;33m=\u001b[0m \u001b[0mself\u001b[0m\u001b[1;33m.\u001b[0m\u001b[0mrawdata\u001b[0m \u001b[1;33m+\u001b[0m \u001b[0mdata\u001b[0m\u001b[1;33m\u001b[0m\u001b[1;33m\u001b[0m\u001b[0m\n\u001b[1;32m--> 110\u001b[1;33m         \u001b[0mself\u001b[0m\u001b[1;33m.\u001b[0m\u001b[0mgoahead\u001b[0m\u001b[1;33m(\u001b[0m\u001b[1;36m0\u001b[0m\u001b[1;33m)\u001b[0m\u001b[1;33m\u001b[0m\u001b[1;33m\u001b[0m\u001b[0m\n\u001b[0m\u001b[0;32m    111\u001b[0m \u001b[1;33m\u001b[0m\u001b[0m\n\u001b[0;32m    112\u001b[0m     \u001b[1;32mdef\u001b[0m \u001b[0mclose\u001b[0m\u001b[1;33m(\u001b[0m\u001b[0mself\u001b[0m\u001b[1;33m)\u001b[0m\u001b[1;33m:\u001b[0m\u001b[1;33m\u001b[0m\u001b[1;33m\u001b[0m\u001b[0m\n",
      "\u001b[1;32m~\\anaconda3\\lib\\html\\parser.py\u001b[0m in \u001b[0;36mgoahead\u001b[1;34m(self, end)\u001b[0m\n\u001b[0;32m    160\u001b[0m             \u001b[1;32mif\u001b[0m \u001b[0mi\u001b[0m \u001b[1;33m<\u001b[0m \u001b[0mj\u001b[0m\u001b[1;33m:\u001b[0m\u001b[1;33m\u001b[0m\u001b[1;33m\u001b[0m\u001b[0m\n\u001b[0;32m    161\u001b[0m                 \u001b[1;32mif\u001b[0m \u001b[0mself\u001b[0m\u001b[1;33m.\u001b[0m\u001b[0mconvert_charrefs\u001b[0m \u001b[1;32mand\u001b[0m \u001b[1;32mnot\u001b[0m \u001b[0mself\u001b[0m\u001b[1;33m.\u001b[0m\u001b[0mcdata_elem\u001b[0m\u001b[1;33m:\u001b[0m\u001b[1;33m\u001b[0m\u001b[1;33m\u001b[0m\u001b[0m\n\u001b[1;32m--> 162\u001b[1;33m                     \u001b[0mself\u001b[0m\u001b[1;33m.\u001b[0m\u001b[0mhandle_data\u001b[0m\u001b[1;33m(\u001b[0m\u001b[0munescape\u001b[0m\u001b[1;33m(\u001b[0m\u001b[0mrawdata\u001b[0m\u001b[1;33m[\u001b[0m\u001b[0mi\u001b[0m\u001b[1;33m:\u001b[0m\u001b[0mj\u001b[0m\u001b[1;33m]\u001b[0m\u001b[1;33m)\u001b[0m\u001b[1;33m)\u001b[0m\u001b[1;33m\u001b[0m\u001b[1;33m\u001b[0m\u001b[0m\n\u001b[0m\u001b[0;32m    163\u001b[0m                 \u001b[1;32melse\u001b[0m\u001b[1;33m:\u001b[0m\u001b[1;33m\u001b[0m\u001b[1;33m\u001b[0m\u001b[0m\n\u001b[0;32m    164\u001b[0m                     \u001b[0mself\u001b[0m\u001b[1;33m.\u001b[0m\u001b[0mhandle_data\u001b[0m\u001b[1;33m(\u001b[0m\u001b[0mrawdata\u001b[0m\u001b[1;33m[\u001b[0m\u001b[0mi\u001b[0m\u001b[1;33m:\u001b[0m\u001b[0mj\u001b[0m\u001b[1;33m]\u001b[0m\u001b[1;33m)\u001b[0m\u001b[1;33m\u001b[0m\u001b[1;33m\u001b[0m\u001b[0m\n",
      "\u001b[1;32m~\\AppData\\Local\\Temp\\ipykernel_15680\\1113613426.py\u001b[0m in \u001b[0;36mhandle_data\u001b[1;34m(self, data)\u001b[0m\n\u001b[0;32m     14\u001b[0m \u001b[1;33m\u001b[0m\u001b[0m\n\u001b[0;32m     15\u001b[0m     \u001b[1;32mdef\u001b[0m \u001b[0mhandle_data\u001b[0m\u001b[1;33m(\u001b[0m\u001b[0mself\u001b[0m\u001b[1;33m,\u001b[0m \u001b[0mdata\u001b[0m\u001b[1;33m)\u001b[0m\u001b[1;33m:\u001b[0m\u001b[1;33m\u001b[0m\u001b[1;33m\u001b[0m\u001b[0m\n\u001b[1;32m---> 16\u001b[1;33m         \u001b[1;32mif\u001b[0m \u001b[0mself\u001b[0m\u001b[1;33m.\u001b[0m\u001b[0mindentation\u001b[0m \u001b[1;33m>=\u001b[0m \u001b[0mlen\u001b[0m\u001b[1;33m(\u001b[0m\u001b[0mself\u001b[0m\u001b[1;33m.\u001b[0m\u001b[0mheadings\u001b[0m\u001b[1;33m)\u001b[0m\u001b[1;33m:\u001b[0m\u001b[1;33m\u001b[0m\u001b[1;33m\u001b[0m\u001b[0m\n\u001b[0m\u001b[0;32m     17\u001b[0m             \u001b[0mself\u001b[0m\u001b[1;33m.\u001b[0m\u001b[0mheadings\u001b[0m\u001b[1;33m\u001b[0m\u001b[1;33m\u001b[0m\u001b[0m\n\u001b[0;32m     18\u001b[0m         \u001b[0mself\u001b[0m\u001b[1;33m.\u001b[0m\u001b[0mheadings\u001b[0m\u001b[1;33m.\u001b[0m\u001b[0mappend\u001b[0m\u001b[1;33m(\u001b[0m\u001b[0mdata\u001b[0m\u001b[1;33m.\u001b[0m\u001b[0mstrip\u001b[0m\u001b[1;33m(\u001b[0m\u001b[1;33m)\u001b[0m\u001b[1;33m)\u001b[0m\u001b[1;33m\u001b[0m\u001b[1;33m\u001b[0m\u001b[0m\n",
      "\u001b[1;31mAttributeError\u001b[0m: 'HeadingParser' object has no attribute 'indentation'"
     ]
    }
   ],
   "source": [
    "from html.parser import HTMLParser\n",
    "\n",
    "\n",
    "class HeadingParser(HTMLParser):\n",
    "    def _init_(self):\n",
    "        super()._init_()\n",
    "        self.indentation = 0\n",
    "        self.headings = []\n",
    "\n",
    "    # def handle_starttag(self, tag, attrs):\n",
    "    #     print(tag)\n",
    "    #     if tag.startswith('h1') or tag.startswith('h2'):\n",
    "    #         self.indentation = int(tag) - 1\n",
    "\n",
    "    def handle_data(self, data):\n",
    "        if self.indentation >= len(self.headings):\n",
    "            self.headings\n",
    "        self.headings.append(data.strip())\n",
    "\n",
    "    def print_headings(self):\n",
    "        # for i, heading in enumerate(self.headings):\n",
    "        #     print(heading)\n",
    "\n",
    "        for x in self.headings:\n",
    "            print(x+'\\n\\n')\n",
    "\n",
    "\n",
    "infile = open('C:/Users/sidhe/OneDrive/Desktop/w3c.html')\n",
    "content = infile.read()\n",
    "infile.close()\n",
    "hp = HeadingParser()\n",
    "hp.feed(content)\n",
    "hp.print_headings()\n"
   ]
  },
  {
   "cell_type": "markdown",
   "id": "a7cadd34",
   "metadata": {},
   "source": [
    "# Question 7"
   ]
  },
  {
   "cell_type": "code",
   "execution_count": 98,
   "id": "91d2b7e6",
   "metadata": {},
   "outputs": [
    {
     "name": "stdout",
     "output_type": "stream",
     "text": [
      "https://www.youtube.com/\n",
      " https://www.youtube.com/\n",
      " https://www.youtube.com/about/\n",
      " https://www.youtube.com/about/press/\n",
      " https://www.youtube.com/about/copyright/\n",
      " https://www.youtube.com/t/contact_us/\n",
      " https://www.youtube.com/creators/\n",
      " https://www.youtube.com/ads/\n",
      " https://developers.google.com/youtube\n",
      " https://www.youtube.com/t/terms\n",
      " https://www.youtube.com/t/privacy\n",
      " https://www.youtube.com/about/policies/\n",
      " https://www.youtube.com/howyoutubeworks?utm_campaign=ytgen&utm_source=ythp&utm_medium=LeftNav&utm_content=txt&u=https%3A%2F%2Fwww.youtube.com%2Fhowyoutubeworks%3Futm_source%3Dythp%26utm_medium%3DLeftNav%26utm_campaign%3Dytgen\n",
      " https://www.youtube.com/new\n"
     ]
    }
   ],
   "source": [
    "import urllib.request\n",
    "from urllib.parse import urljoin\n",
    "from html.parser import HTMLParser\n",
    "\n",
    "class LinkParser(HTMLParser):\n",
    "    def __init__(self, base_url):\n",
    "        super().__init__()\n",
    "        self.base_url = base_url\n",
    "        self.links = []\n",
    "\n",
    "    def handle_starttag(self, tag, attrs):\n",
    "        if tag == 'a':\n",
    "            for attr, value in attrs:\n",
    "                if attr == 'href':\n",
    "                    url = urljoin(self.base_url, value)\n",
    "                    if url not in self.links:\n",
    "                        self.links.append(url)\n",
    "\n",
    "def webdir(url, depth, indent):\n",
    "    if depth == 0:\n",
    "        return\n",
    "    print(' ' * indent + url)\n",
    "    try:\n",
    "        with urllib.request.urlopen(url) as response:\n",
    "            if response.getheader('Content-Type').startswith('text/html'):\n",
    "                content = response.read().decode()\n",
    "                parser = LinkParser(url)\n",
    "                parser.feed(content)\n",
    "                for link in parser.links:\n",
    "                    webdir(link, depth - 1, indent + 1)\n",
    "    except:\n",
    "        return\n",
    "\n",
    "\n",
    "#webdir('https://www.youtube.com/', 2, 0)\n"
   ]
  },
  {
   "cell_type": "markdown",
   "id": "1f64a2b4",
   "metadata": {},
   "source": [
    "# Question 8"
   ]
  },
  {
   "cell_type": "code",
   "execution_count": 124,
   "id": "122a8abf",
   "metadata": {},
   "outputs": [
    {
     "name": "stdout",
     "output_type": "stream",
     "text": [
      "a) All the temperature data.\n",
      "\n",
      "City: Mumbai,Temperature: 24.8\n",
      "City: Mumbai,Temperature: 28.4\n",
      "City: Mumbai,Temperature: 27.9\n",
      "City: Mumbai,Temperature: 27.6\n",
      "City: London,Temperature: 4.2\n",
      "City: London,Temperature: 8.3\n",
      "City: London,Temperature: 15.7\n",
      "City: London,Temperature: 10.4\n",
      "City: Cairo,Temperature: 13.6\n",
      "City: Cairo,Temperature: 20.7\n",
      "City: Cairo,Temperature: 27.7\n",
      "City: Cairo,Temperature: 22.2\n",
      "\n",
      "\n",
      "B) All the cities, but without repetition.\n",
      "\n",
      "City: Mumbai\n",
      "City: London\n",
      "City: Cairo\n",
      "\n",
      "\n",
      "C) All the records for India.\n",
      "\n",
      "('Mumbai', 'India', 'Winter', 24.8, 5.9)\n",
      "('Mumbai', 'India', 'Spring', 28.4, 16.2)\n",
      "('Mumbai', 'India', 'Summer', 27.9, 1549.4)\n",
      "('Mumbai', 'India', 'Fall', 27.6, 346.0)\n",
      "\n",
      "\n",
      "D) All the Fall records.\n",
      "\n",
      "('Mumbai', 'India', 'Fall', 27.6, 346.0)\n",
      "('London', 'United Kingdom', 'Fall', 10.4, 218.5)\n",
      "('Cairo', 'Egypt', 'Fall', 22.2, 4.5)\n",
      "\n",
      "\n",
      "E) The city, country, and season for which the average rainfall is between 200 and 400 millimeters.\n",
      "\n",
      "('London', 'United Kingdom', 'Fall')\n",
      "('London', 'United Kingdom', 'Winter')\n",
      "('Mumbai', 'India', 'Fall')\n",
      "\n",
      "\n",
      "F) The city and country for which the average Fall temperature is above 20 degrees, in increasing temperature order\n",
      "\n",
      "('Cairo', 'Egypt')\n",
      "('Mumbai', 'India')\n",
      "\n",
      "\n",
      "G) The total annual rainfall for Cairo.\n",
      "\n",
      "(27.6,)\n",
      "\n",
      "\n",
      "H) The total rainfall for each season.\n",
      "\n",
      "('Fall', 569.0)\n",
      "('Spring', 192.29999999999998)\n",
      "('Summer', 1706.5)\n",
      "('Winter', 230.1)\n"
     ]
    }
   ],
   "source": [
    "\n",
    "import pandas as pd\n",
    "\n",
    "\n",
    "import sqlite3\n",
    "\n",
    "# Creating sqlite3 database\n",
    "conn = sqlite3.connect('Weatherdata.db')\n",
    "\n",
    "# Creating table called WorldTable\n",
    "\n",
    "conn.execute('''CREATE TABLE WeatherT\n",
    "            (City TEXT, Country TEXT, Season TEXT, Temperature FLOAT, Rainfall FLOAT)''')\n",
    "\n",
    "# Inserting data into the WorldTable table\n",
    "conn.execute(\"INSERT INTO WeatherT (City, Country, Season, Temperature, Rainfall) VALUES ('Mumbai', 'India', 'Winter', 24.8, 5.9)\")\n",
    "conn.execute(\"INSERT INTO WeatherT (City, Country, Season, Temperature, Rainfall) VALUES ('Mumbai', 'India', 'Spring', 28.4, 16.2)\")\n",
    "conn.execute(\"INSERT INTO WeatherT (City, Country, Season, Temperature, Rainfall) VALUES ('Mumbai', 'India', 'Summer', 27.9, 1549.4)\")\n",
    "conn.execute(\"INSERT INTO WeatherT (City, Country, Season, Temperature, Rainfall) VALUES ('Mumbai', 'India', 'Fall', 27.6, 346.0)\")\n",
    "conn.execute(\"INSERT INTO WeatherT (City, Country, Season, Temperature, Rainfall) VALUES ('London' , 'United Kingdom' , 'Winter' , 4.2,207.7)\")\n",
    "conn.execute(\"INSERT INTO WeatherT (City, Country, Season, Temperature, Rainfall) VALUES ('London' , 'United Kingdom' , 'Spring' , 8.3,169.6)\")\n",
    "conn.execute(\"INSERT INTO WeatherT (City, Country, Season, Temperature, Rainfall) VALUES ('London' , 'United Kingdom' , 'Summer' , 15.7,157.0)\")\n",
    "conn.execute(\"INSERT INTO WeatherT (City, Country, Season, Temperature, Rainfall) VALUES ('London' , 'United Kingdom' , 'Fall' , 10.4,218.5)\")\n",
    "conn.execute(\"INSERT INTO WeatherT (City, Country, Season, Temperature, Rainfall) VALUES ('Cairo', 'Egypt', 'Winter' , 13.6, 16.5)\")\n",
    "conn.execute(\"INSERT INTO WeatherT (City, Country, Season, Temperature, Rainfall) VALUES ('Cairo', 'Egypt', 'Spring' , 20.7, 6.5)\")\n",
    "conn.execute(\"INSERT INTO WeatherT (City, Country, Season, Temperature, Rainfall) VALUES ('Cairo', 'Egypt', 'Summer' , 27.7, 0.1)\")\n",
    "conn.execute(\"INSERT INTO WeatherT (City, Country, Season, Temperature, Rainfall) VALUES ('Cairo', 'Egypt', 'Fall' , 22.2, 4.5)\")\n",
    "query1 = conn.execute(\"SELECT * FROM WeatherT\")\n",
    "print(\"a) All the temperature data.\\n\")                      \n",
    "for row in query1:\n",
    "    print(f\"City: {row[0]},Temperature: {row[3]}\")\n",
    "    \n",
    "print(\"\\n\")    \n",
    "print(\"B) All the cities, but without repetition.\\n\")\n",
    "query2 = conn.execute(\"Select distinct(City) from WeatherT\")\n",
    "\n",
    "for row in query2:\n",
    "    print(f\"City: {row[0]}\")\n",
    "    \n",
    "    \n",
    "print(\"\\n\")    \n",
    "print(\"C) All the records for India.\\n\")\n",
    "query3 = conn.execute(\"SELECT * FROM WeatherT WHERE country='India';\")\n",
    "\n",
    "for row in query3:\n",
    "    print(f\"{row}\")\n",
    "    \n",
    "    \n",
    "print(\"\\n\")    \n",
    "print(\"D) All the Fall records.\\n\")\n",
    "query4 = conn.execute(\"SELECT * FROM WeatherT WHERE season='Fall';\")\n",
    "\n",
    "for row in query4:\n",
    "    print(f\"{row}\")\n",
    "    \n",
    "\n",
    "print(\"\\n\")    \n",
    "print(\"E) The city, country, and season for which the average rainfall is between 200 and 400 millimeters.\\n\")\n",
    "query5 = conn.execute(\"\"\"SELECT city, country, season\n",
    "            FROM WeatherT\n",
    "            GROUP BY city, country, season\n",
    "            HAVING AVG(rainfall) BETWEEN 200 AND 400;\"\"\")\n",
    "\n",
    "for row in query5:\n",
    "    print(f\"{row}\")\n",
    "    \n",
    "\n",
    "print(\"\\n\")    \n",
    "print(\"F) The city and country for which the average Fall temperature is above 20 degrees, in increasing temperature order\\n\")\n",
    "query6 = conn.execute(\"\"\"SELECT city, country\n",
    "            FROM WeatherT\n",
    "            WHERE season='Fall'\n",
    "            GROUP BY city, country\n",
    "            HAVING AVG(temperature) > 20\n",
    "            ORDER BY AVG(temperature) ASC;\"\"\")    \n",
    "\n",
    "for row in query6:\n",
    "    print(f\"{row}\")\n",
    "    \n",
    "\n",
    "print(\"\\n\")    \n",
    "print(\"G) The total annual rainfall for Cairo.\\n\")\n",
    "query7 = conn.execute(\"SELECT SUM(rainfall) AS total_annual_rainfall FROM WeatherT WHERE city='Cairo';\")\n",
    "\n",
    "for row in query7:\n",
    "    print(f\"{row}\")\n",
    "\n",
    "\n",
    "print(\"\\n\")    \n",
    "print(\"H) The total rainfall for each season.\\n\")\n",
    "query8 = conn.execute(\"SELECT season, SUM(rainfall) AS total_rainfall FROM WeatherT GROUP BY season;\")\n",
    "\n",
    "for row in query8:\n",
    "    print(f\"{row}\")\n",
    "\n",
    "\n",
    "# Commit changes and close the connection\n",
    "conn.commit()\n",
    "conn.close()\n",
    "\n",
    "\n"
   ]
  },
  {
   "cell_type": "markdown",
   "id": "b60e2af1",
   "metadata": {},
   "source": [
    "# Question 9"
   ]
  },
  {
   "cell_type": "code",
   "execution_count": 97,
   "id": "4555b1ef",
   "metadata": {},
   "outputs": [
    {
     "name": "stdout",
     "output_type": "stream",
     "text": [
      "A) ['THE', 'QUICK', 'BROWN', 'FOX', 'JUMPS', 'OVER', 'THE', 'LAZY', 'DOG']\n",
      "B) ['the', 'quick', 'brown', 'fox', 'jumps', 'over', 'the', 'lazy', 'dog']\n",
      "C) [3, 5, 5, 3, 5, 4, 3, 4, 3]\n",
      "D) [['THE', 'the', 3], ['QUICK', 'quick', 5], ['BROWN', 'brown', 5], ['FOX', 'fox', 3], ['JUMPS', 'jumps', 5], ['OVER', 'over', 4], ['THE', 'the', 3], ['LAZY', 'lazy', 4], ['DOG', 'dog', 3]]\n",
      "E) ['quick', 'brown', 'jumps', 'over', 'lazy']\n"
     ]
    }
   ],
   "source": [
    "words = ['The', 'quick', 'brown', 'fox', 'jumps', 'over', 'the', 'lazy', 'dog']\n",
    "\n",
    "print(\"A)\",['{}'.format(word.upper()) for word in words])\n",
    "print(\"B)\",['{}'.format(word.lower()) for word in words])\n",
    "print(\"C)\",[len(word) for word in words])\n",
    "print(\"D)\",[[word.upper(), word.lower(), len(word)] for word in words])\n",
    "print(\"E)\",[word for word in words if len(word)>=4])"
   ]
  },
  {
   "cell_type": "code",
   "execution_count": null,
   "id": "1165af93",
   "metadata": {},
   "outputs": [],
   "source": []
  }
 ],
 "metadata": {
  "kernelspec": {
   "display_name": "Python 3 (ipykernel)",
   "language": "python",
   "name": "python3"
  },
  "language_info": {
   "codemirror_mode": {
    "name": "ipython",
    "version": 3
   },
   "file_extension": ".py",
   "mimetype": "text/x-python",
   "name": "python",
   "nbconvert_exporter": "python",
   "pygments_lexer": "ipython3",
   "version": "3.9.13"
  }
 },
 "nbformat": 4,
 "nbformat_minor": 5
}
